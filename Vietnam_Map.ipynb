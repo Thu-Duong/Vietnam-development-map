{
 "cells": [
  {
   "cell_type": "markdown",
   "metadata": {},
   "source": [
    "# Vietnam\n",
    "\n",
    "\n",
    "\n",
    "## Table of contents\n",
    "1. [General Geography](#1)<br>\n",
    "    1.1 [Soil Resources](#11)<br>\n",
    "    1.2 [Road and Railway Network](#12)<br>\n",
    "2. [Poverty in Vietnam](#2)<br>\n",
    "    2.1 [The percentage of malnourished children under 5 in 2018 by locality](#21)<br>\n",
    "    2.2 [Proportion of poor households by region from 1998 to 2016 ](#22)<br>\n",
    "3. [Vietnam Economy](#3)<br>\n",
    "    3.1 [Employment](#31)<br>\n",
    "    3.2 [The Aquaculture Production from 2013 to 2018 by Provinces](#32)<br>\n",
    "    3.3 [Various sources of income by provinces in 2018](#33)<br>\n",
    "\n",
    "I. [Important Notes](#333)<br>\n",
    "II. [References](#666)<br>"
   ]
  },
  {
   "cell_type": "code",
   "execution_count": 1,
   "metadata": {},
   "outputs": [
    {
     "ename": "ModuleNotFoundError",
     "evalue": "No module named 'plotly'",
     "output_type": "error",
     "traceback": [
      "\u001b[1;31m---------------------------------------------------------------------------\u001b[0m",
      "\u001b[1;31mModuleNotFoundError\u001b[0m                       Traceback (most recent call last)",
      "\u001b[1;32mc:\\Users\\thuduong\\Learning\\Vietnam-development-map\\Vietnam_Map.ipynb Cell 2\u001b[0m in \u001b[0;36m4\n\u001b[0;32m      <a href='vscode-notebook-cell:/c%3A/Users/thuduong/Learning/Vietnam-development-map/Vietnam_Map.ipynb#W1sZmlsZQ%3D%3D?line=1'>2</a>\u001b[0m \u001b[39mimport\u001b[39;00m \u001b[39mpandas\u001b[39;00m \u001b[39mas\u001b[39;00m \u001b[39mpd\u001b[39;00m\n\u001b[0;32m      <a href='vscode-notebook-cell:/c%3A/Users/thuduong/Learning/Vietnam-development-map/Vietnam_Map.ipynb#W1sZmlsZQ%3D%3D?line=2'>3</a>\u001b[0m \u001b[39mimport\u001b[39;00m \u001b[39mnumpy\u001b[39;00m \u001b[39mas\u001b[39;00m \u001b[39mnp\u001b[39;00m\n\u001b[1;32m----> <a href='vscode-notebook-cell:/c%3A/Users/thuduong/Learning/Vietnam-development-map/Vietnam_Map.ipynb#W1sZmlsZQ%3D%3D?line=3'>4</a>\u001b[0m \u001b[39mimport\u001b[39;00m \u001b[39mplotly\u001b[39;00m\u001b[39m.\u001b[39;00m\u001b[39mexpress\u001b[39;00m \u001b[39mas\u001b[39;00m \u001b[39mpx\u001b[39;00m\n\u001b[0;32m      <a href='vscode-notebook-cell:/c%3A/Users/thuduong/Learning/Vietnam-development-map/Vietnam_Map.ipynb#W1sZmlsZQ%3D%3D?line=4'>5</a>\u001b[0m \u001b[39mimport\u001b[39;00m \u001b[39mplotly\u001b[39;00m\u001b[39m.\u001b[39;00m\u001b[39mgraph_objects\u001b[39;00m \u001b[39mas\u001b[39;00m \u001b[39mgo\u001b[39;00m\n\u001b[0;32m      <a href='vscode-notebook-cell:/c%3A/Users/thuduong/Learning/Vietnam-development-map/Vietnam_Map.ipynb#W1sZmlsZQ%3D%3D?line=5'>6</a>\u001b[0m \u001b[39mimport\u001b[39;00m \u001b[39mgeopandas\u001b[39;00m \u001b[39mas\u001b[39;00m \u001b[39mgpd\u001b[39;00m\n",
      "\u001b[1;31mModuleNotFoundError\u001b[0m: No module named 'plotly'"
     ]
    }
   ],
   "source": [
    "import json\n",
    "import pandas as pd\n",
    "import numpy as np\n",
    "import plotly.express as px\n",
    "import plotly.graph_objects as go\n",
    "import geopandas as gpd\n",
    "import shapely.geometry\n",
    "\n",
    "from ipywidgets import widgets\n",
    "\n",
    "import plotly.io as pio\n",
    "from codes.auxiliary import convert_id_map\n",
    "from codes.plot import *\n",
    "\n",
    "# Choosing render platform\n",
    "pio.renderers.default = 'jupyterlab'\n",
    "# 'plotly_mimetype', 'jupyterlab', 'nteract', 'vscode',\n",
    "# 'notebook', 'notebook_connected', 'kaggle', 'azure', 'colab',\n",
    "# 'cocalc', 'databricks', 'json', 'png', 'jpeg', 'jpg', 'svg',\n",
    "# 'pdf', 'browser', 'firefox', 'chrome', 'chromium', 'iframe',\n",
    "# 'iframe_connected', 'sphinx_gallery', 'sphinx_gallery_png'\n"
   ]
  },
  {
   "cell_type": "markdown",
   "metadata": {},
   "source": [
    "## 1. General Geography <a id=\"1\"></a>\n",
    "\n",
    "### 1.1 Soil Resources <a id=\"11\"></a>\n",
    "\n",
    "Dataset of soil types of Vietnam is a geospatial polygon data which is based on FAO classification\n",
    "\n",
    "[Source](https://data.opendevelopmentmekong.net/dataset/soil-types-in-vietnam)"
   ]
  },
  {
   "cell_type": "code",
   "execution_count": 2,
   "metadata": {},
   "outputs": [],
   "source": [
    "soil_geo = json.load(open('geodata/soilmap_vietnam.geojson',\"r\"))\n",
    "\n",
    "# split unique soil type\n",
    "imap = convert_id_map(soil_geo, 'Type', 'faosoil')\n",
    "map_keys = imap.keys()\n",
    "soil_list = []\n",
    "soil_dict = {}\n",
    "for key in map_keys:\n",
    "    soil_type = key.split(\"sols\")[0]\n",
    "    soil_type +=\"sols\"\n",
    "    if key not in soil_dict.keys():\n",
    "        soil_dict[key] = soil_type\n",
    "    if soil_type not in soil_list:\n",
    "        soil_list.append(soil_type)\n",
    "\n",
    "# Soilmap Dataframe\n",
    "soil_pd = gpd.read_file('geodata/soilmap_vietnam.geojson')\n",
    "# soil_pd = soil_pd.iloc[:,0:4]\n",
    "soil_pd[\"Soil_type\"] = soil_pd['Type'].map(soil_dict)"
   ]
  },
  {
   "cell_type": "code",
   "execution_count": 3,
   "metadata": {},
   "outputs": [],
   "source": [
    "# Plotting soil map\n",
    "fig = px.choropleth_mapbox(\n",
    "    soil_pd,\n",
    "    geojson=soil_geo,\n",
    "    color = \"Soil_type\",\n",
    "    color_discrete_sequence=px.colors.qualitative.Light24,\n",
    "    locations = \"gid\",\n",
    "    featureidkey=\"properties.gid\",\n",
    "    mapbox_style = \"carto-positron\",\n",
    "    center = {\"lat\": 16, \"lon\": 106},\n",
    "    zoom = 5,\n",
    "    title = \"Soil Map\"\n",
    "    )\n",
    "    \n",
    "fig.update_layout(margin={\"r\":0,\"t\":0,\"l\":0,\"b\":0})\n",
    "fig.show()"
   ]
  },
  {
   "cell_type": "markdown",
   "metadata": {},
   "source": [
    "<img src=\"figures/soilmap.png\" alt=\"drawing\" style=\"width:950px;\"/>"
   ]
  },
  {
   "cell_type": "markdown",
   "metadata": {},
   "source": [
    "### 1.2 Road and Railway network <a id=\"12\"></a>\n",
    "\n",
    "A geospatial dataset containing polylines of transportation network in Vietnam. It contains the railways, the principal roads and the secondary roads.\n",
    "[Source](https://data.opendevelopmentmekong.net/dataset/giao-thng-vit-nam)"
   ]
  },
  {
   "cell_type": "code",
   "execution_count": 4,
   "metadata": {},
   "outputs": [],
   "source": [
    "# open a zipped shapefile with the zip:// pseudo-protocol\n",
    "transport_df = gpd.read_file(\"geodata/transport.zip\")\n",
    "\n",
    "lats = []\n",
    "lons = []\n",
    "names = []\n",
    "\n",
    "for feature, name in zip(transport_df.geometry, transport_df.Name):\n",
    "    if isinstance(feature, shapely.geometry.linestring.LineString):\n",
    "        linestrings = [feature]\n",
    "    elif isinstance(feature, shapely.geometry.multilinestring.MultiLineString):\n",
    "        linestrings = feature.geoms\n",
    "    else:\n",
    "        continue\n",
    "    for linestring in linestrings:\n",
    "        x, y = linestring.xy\n",
    "        lats = np.append(lats, y)\n",
    "        lons = np.append(lons, x)\n",
    "        names = np.append(names, [name]*len(y))\n",
    "        lats = np.append(lats, None)\n",
    "        lons = np.append(lons, None)\n",
    "        names = np.append(names, None)\n",
    "\n",
    "fig = px.line_mapbox(lat=lats, lon=lons, hover_name=names,\n",
    "                     mapbox_style=\"stamen-terrain\", zoom=4.5, center={\"lat\": 16, \"lon\": 106})\n",
    "\n",
    "fig.show()"
   ]
  },
  {
   "cell_type": "markdown",
   "metadata": {},
   "source": [
    "<img src=\"figures/South_railway_road.png\" alt=\"drawing\" style=\"width:950px;\"/>"
   ]
  },
  {
   "cell_type": "markdown",
   "metadata": {},
   "source": [
    "## 2. Poverty In Vietnam <a id=\"2\"></a>\n",
    "\n",
    "### 2.1. The percentage of malnourished children under 5 in 2018 by locality <a id=\"21\"></a>\n",
    "\n",
    "The attributes include the total weight, hight and weight based on height."
   ]
  },
  {
   "cell_type": "code",
   "execution_count": 2,
   "metadata": {},
   "outputs": [],
   "source": [
    "# Malnutrition data\n",
    "malnutrition_children_vn_2018  = pd.read_csv(\"geodata/malnutrition_children_vn_2018.csv\")\n",
    "\n",
    "#Vietnam map\n",
    "vietnam_geo = json.load(open(\"geodata/vietnam_state.geojson\",\"r\"))\n",
    "\n",
    "# Plotting\n",
    "fig = px.choropleth_mapbox(\n",
    "    malnutrition_children_vn_2018,\n",
    "    locations = 'Code',\n",
    "    featureidkey=\"properties.Code\",\n",
    "    geojson = vietnam_geo,\n",
    "    color = 'Wei_Hei',\n",
    "    hover_name = \"Name\",\n",
    "    mapbox_style = \"carto-positron\",\n",
    "    center = {\"lat\": 16,\"lon\": 106},\n",
    "    zoom = 4.5,\n",
    "    title = \"malnourished children under 5 in 2018 by locality in Vietnam \",\n",
    ")\n",
    "fig.update_geos(fitbounds = \"locations\", visible=False)\n",
    "fig.show()"
   ]
  },
  {
   "cell_type": "markdown",
   "metadata": {},
   "source": [
    "<img src=\"figures/Malnutrion_children_2018.png\" alt=\"drawing\" style=\"width:950px;\"/>\n",
    "\n",
    "### 2.2 Proportion of poor households by region from 1998 to 2016  <a id=\"22\"></a>\n",
    "The dataset includes le pourcentage of poor households by region in Vietnam from 1998 to 2016. The standard of poor households for this period based on the average income per person per month of households is updated according to the consumer price index as follows: In 2010, VND 400,000 for rural areas and VND 500,000 for urban areas; Similarly, in 2013 it was VND 570,000 and VND 710,000; in 2014, VND 605,000 dong and VND 750,000; in 2015, there were VND 615,000 and VND 760,000 dong; In 2016, VND 630,000 and VND 780,000 respectively."
   ]
  },
  {
   "cell_type": "code",
   "execution_count": null,
   "metadata": {},
   "outputs": [],
   "source": [
    "# Import the Vietnam map by region data (error geojson file)\n",
    "vnregion_geo = json.load(open(\"geodata/poverty_rate_1998_2016.geojson\", \"r\",encoding='utf-8'))\n",
    "\n",
    "# Import aquaculture_production csv\n",
    "poverty_rate_1998_2016 = pd.read_csv(\"geodata/poverty_rate_1998_2016.csv\")\n",
    "cols = sorted(poverty_rate_1998_2016.columns[3:], reverse=False)\n",
    "\n",
    "for i, y in enumerate(cols):\n",
    "    poverty = \"Poverty\" + y\n",
    "    poverty_rate_1998_2016[poverty] = poverty_rate_1998_2016[y]\n",
    "\n",
    "# Convert wide to long format\n",
    "poverty = poverty_rate_1998_2016.drop(cols, axis=1)\n",
    "final_poverty = pd.wide_to_long(poverty,\"Poverty\", i=['Name_EN','Name_VI','id'], j= \"year\")\n",
    "final_poverty.reset_index(inplace=True)"
   ]
  },
  {
   "cell_type": "markdown",
   "metadata": {},
   "source": [
    "### Choropleth map using GeoJSON"
   ]
  },
  {
   "cell_type": "code",
   "execution_count": null,
   "metadata": {},
   "outputs": [],
   "source": [
    "input_year ='1998' #1998 2002 2004 2006 2008 2010 2011 2012 2013 2014 2015 2016\n",
    "\n",
    "fig = px.choropleth_mapbox(\n",
    "    poverty_rate_1998_2016,\n",
    "    locations = 'id',\n",
    "    geojson = vnregion_geo,\n",
    "    featureidkey=\"properties.id\",\n",
    "    color = \"Poverty\" + input_year ,\n",
    "    color_continuous_scale=\"Viridis\",\n",
    "    range_color=(0, 65),\n",
    "    hover_name = \"Name_EN\",\n",
    "    # hover_data = [\"Poverty_percentage\" + input_year],\n",
    "    mapbox_style = \"carto-positron\",\n",
    "    center = {\"lat\": 17,\"lon\": 106},\n",
    "    zoom = 4.5,\n",
    "    title = \"Proportion of poor households by region in Vietnam \"+ input_year,\n",
    ")\n",
    "fig.update_geos(fitbounds = \"locations\", visible=False)\n",
    "fig.show()"
   ]
  },
  {
   "cell_type": "markdown",
   "metadata": {},
   "source": [
    "<img src=\"figures/poverty_rate_1998_2016.png\" alt=\"drawing\" style=\"width:950px;\"/>\n",
    "\n",
    "### Animated figures with GeoJSON, Plotly Express"
   ]
  },
  {
   "cell_type": "code",
   "execution_count": null,
   "metadata": {
    "tags": []
   },
   "outputs": [],
   "source": [
    "fig = px.choropleth(\n",
    "    final_poverty,\n",
    "    locations = 'id',\n",
    "    featureidkey=\"properties.id\",\n",
    "    animation_frame = \"year\",\n",
    "    geojson = vnregion_geo,\n",
    "    color = \"Poverty\",\n",
    "    color_continuous_scale=\"Viridis\",\n",
    "    range_color=(0, 65),\n",
    "    hover_name = \"Name_EN\",\n",
    "    # hover_data = ['Poverty_percentage'],\n",
    "    title = \"Proportion of poor households by region in Vietnam from 1998 to 2016\",\n",
    ")\n",
    "fig.update_geos(fitbounds = \"locations\", visible=False)\n",
    "fig.show()"
   ]
  },
  {
   "cell_type": "markdown",
   "metadata": {},
   "source": [
    "## 3. Vietnam Economy <a id=\"3\"></a>\n",
    "\n",
    "### 3.1 Employment <a id=\"31\"></a>\n",
    "\n",
    "[Source](https://www.gso.gov.vn/en/employment/)\n"
   ]
  },
  {
   "cell_type": "code",
   "execution_count": null,
   "metadata": {},
   "outputs": [],
   "source": [
    "# Import csv\n",
    "trained_employee = pd.read_csv(\"geodata/trained_employee15_vn.csv\")\n",
    "labor_force = pd.read_csv(\"geodata/labor_force_vn.csv\")"
   ]
  },
  {
   "cell_type": "markdown",
   "metadata": {},
   "source": [
    "<img src=\"figures/Percent_employ15.png\" alt=\"drawing\" style=\"width:950px;\"/>"
   ]
  },
  {
   "cell_type": "markdown",
   "metadata": {},
   "source": [
    "#### Labour force at 15 years of age and above by province "
   ]
  },
  {
   "cell_type": "code",
   "execution_count": null,
   "metadata": {},
   "outputs": [],
   "source": [
    "title31 = \"Labour force at 15 years of age and above by province from 2010 to 2018\"\n",
    "plot_animation_frame_vietnamstate(labor_force,vietnam_geo,\"labor_force\", title31)"
   ]
  },
  {
   "cell_type": "markdown",
   "metadata": {},
   "source": [
    "#### Percentage of employed workers at 15 years of age and above among population by province "
   ]
  },
  {
   "cell_type": "code",
   "execution_count": null,
   "metadata": {},
   "outputs": [],
   "source": [
    "title32 = \"Percentage of employed workers at 15 years of age and above among population by province from 2010 to 2018\"\n",
    "plot_animation_frame_vietnamstate(trained_employee,vietnam_geo,\"percentage\", title32)"
   ]
  },
  {
   "cell_type": "markdown",
   "metadata": {},
   "source": [
    "\n",
    "### 3.2 The Aquaculture Production from 2013 to 2018 by Provinces <a id=\"32\"></a>\n",
    "Published by: Open Development Vietnam The data provides information on Vietnam's aquaculture production from 2013 to 2018. The aquaculture in Vietnam includes: farmed fish production, farmed shrimp production and other aquatic products. Aquaculture production is divided by province and city."
   ]
  },
  {
   "cell_type": "code",
   "execution_count": null,
   "metadata": {},
   "outputs": [],
   "source": [
    "# import the Vietnam map by provinces data\n",
    "vietnam_geo = json.load(open(\"geodata/vietnam_state.geojson\", \"r\"))\n",
    "\n",
    "# Convert map properties/\n",
    "state_id_map = convert_id_map(vietnam_geo, \"Name\", \"Code\")"
   ]
  },
  {
   "cell_type": "code",
   "execution_count": null,
   "metadata": {},
   "outputs": [],
   "source": [
    "# Import aquaculture_production csv\n",
    "df = pd.read_csv(\"geodata/aquaculture_production_2013__2018.csv\")\n",
    "years = ['2013','2014','2015','2016','2017','2018']\n",
    "for i, y in enumerate(years):\n",
    "    scale = 'Production_Scale'+ y\n",
    "    prod = 'Production' + y\n",
    "    df[scale] = np.log10(df[y])\n",
    "    df[prod] = df[y]\n",
    "\n",
    "# Convert wide to long format\n",
    "prod = df.drop(years, axis=1)\n",
    "final_prod = pd.wide_to_long(prod, stubnames=['Production_Scale','Production'], i=['Name','Code'], j=\"year\")\n",
    "final_prod.reset_index(inplace=True)"
   ]
  },
  {
   "cell_type": "markdown",
   "metadata": {},
   "source": [
    "### Choropleth map using GeoJSON"
   ]
  },
  {
   "cell_type": "code",
   "execution_count": null,
   "metadata": {},
   "outputs": [],
   "source": [
    "input_year = '2018'\n",
    "fig = px.choropleth_mapbox(\n",
    "    df,\n",
    "    geojson = vietnam_geo,\n",
    "    locations =\"Code\",\n",
    "    color = \"Production_Scale\" + input_year,\n",
    "    range_color=(2, 6),\n",
    "    hover_name = \"Name\",\n",
    "    featureidkey = \"properties.Code\",\n",
    "    hover_data = ['Production'+ input_year],\n",
    "    mapbox_style=\"carto-positron\",\n",
    "    center={\"lat\": 16, \"lon\": 106},\n",
    "    zoom=4.5,\n",
    "    title =\"The Aquaculture Production of Vietnam by Province in \" + input_year\n",
    ")\n",
    "fig.update_geos(fitbounds =\"locations\", visible=False)\n",
    "fig.show()"
   ]
  },
  {
   "cell_type": "markdown",
   "metadata": {},
   "source": [
    "<img src=\"figures/Aqua_prod_2013.png\" alt=\"drawing\" style=\"width:950px;\"/>\n",
    "\n",
    "### Animated figures with GeoJSON, Plotly Express"
   ]
  },
  {
   "cell_type": "code",
   "execution_count": null,
   "metadata": {},
   "outputs": [],
   "source": [
    "title33 = \"The Aquaculture Production of Vietnam from 2013 to 2018 by Province\"\n",
    "plot_animation_frame_vietnamstate(final_prod, vietnam_geo, \"Production_Scale\", title33)"
   ]
  },
  {
   "cell_type": "markdown",
   "metadata": {
    "tags": []
   },
   "source": [
    "## 3.3 Various sources of income by provinces  in 2018 <a id=\"33\"></a>\n",
    "\n",
    "The data provide the information on per capita in come by province in 2018 in Vietnam. The total income per month includes the salary, the income from agriculture, forestry, aquaculture and non-agriculture, non-forestry, non-aquaculture and from other income. The income unit is in thousands vnd\n",
    "\n",
    "[Source](https://data.opendevelopmentmekong.net/dataset/per-capita-income-by-province-in-2018-in-vietnam)"
   ]
  },
  {
   "cell_type": "code",
   "execution_count": 2,
   "metadata": {},
   "outputs": [],
   "source": [
    "# Import csv and geojson\n",
    "income_df = pd.read_csv(\"geodata/thunhapbinhquan.csv\")\n",
    "categories = sorted(income_df.columns[3:])\n",
    "\n",
    "#Vietnam map\n",
    "vietnam_geo = json.load(open(\"geodata/vietnam_state.geojson\",\"r\"))"
   ]
  },
  {
   "cell_type": "markdown",
   "metadata": {},
   "source": [
    "<img src=\"figures/Wage_agri_by_province.png\" alt=\"drawing\" style=\"width:950px;\"/>"
   ]
  },
  {
   "cell_type": "code",
   "execution_count": 3,
   "metadata": {},
   "outputs": [],
   "source": [
    "trace = go.Choroplethmapbox(\n",
    "    geojson = vietnam_geo,\n",
    "    featureidkey='properties.Code',\n",
    "    locations = income_df[\"Code\"],\n",
    "    z=income_df.loc[0:, 'income_total_average'],\n",
    "    hovertext = 'Province: ' + income_df.Name_EN,\n",
    "    colorscale ='viridis',\n",
    "    marker_opacity=0.9,\n",
    "    marker_line_width=0.9,\n",
    "    showscale=True\n",
    "    )\n",
    "\n",
    "lyt = dict(title='Income by provinces',\n",
    "           height = 700,\n",
    "           mapbox_style = \"white-bg\",\n",
    "           mapbox_zoom = 4,\n",
    "           mapbox_center = {\"lat\": 17,\"lon\": 106})\n",
    "\n",
    "fig = go.FigureWidget(data=[trace], layout=lyt)\n",
    "\n",
    "# Add dropdowns\n",
    "## 'Income' dropdown\n",
    "cat_options = ['total_average', 'salary', 'agri', 'non_agri', 'others']\n",
    "category = widgets.Dropdown(options=cat_options,\n",
    "                            value='total_average',\n",
    "                            description='Category')\n",
    "\n",
    "# Add Submit button\n",
    "submit = widgets.Button(description='Submit',\n",
    "                        disabled=False,\n",
    "                        button_style='info',\n",
    "                        icon='check')"
   ]
  },
  {
   "cell_type": "code",
   "execution_count": 4,
   "metadata": {},
   "outputs": [
    {
     "data": {
      "application/vnd.jupyter.widget-view+json": {
       "model_id": "994f2e1ff4764268be9d09449f8db233",
       "version_major": 2,
       "version_minor": 0
      },
      "text/plain": [
       "VBox(children=(HBox(children=(Dropdown(description='Category', options=('total_average', 'salary', 'agri', 'no…"
      ]
     },
     "metadata": {},
     "output_type": "display_data"
    }
   ],
   "source": [
    "def submit_event_handler(args):\n",
    "    if category.value in cat_options:\n",
    "        new_data = income_df.loc[0:, 'income_' + str(category.value)]\n",
    "        with fig.batch_update():\n",
    "            fig.data[0].z = new_data\n",
    "            fig.layout.title = ' '.join(['Income ',str(category.value), ' in 2018'])\n",
    "\n",
    "submit.on_click(submit_event_handler)\n",
    "\n",
    "container = widgets.HBox([category, submit])\n",
    "widgets.VBox([container, fig])"
   ]
  },
  {
   "cell_type": "markdown",
   "metadata": {},
   "source": [
    "## Important Notes <a id=\"333\"></a>\n",
    "\n",
    "\n",
    "## Reference <a id=\"666\"></a>\n",
    "For additional information and attributes for creating bubble charts in Plotly see: https://plotly.com/python/bubble-charts/.\n",
    "\n",
    "For more documentation on creating animations with Plotly, see https://plotly.com/python/animations."
   ]
  },
  {
   "cell_type": "code",
   "execution_count": null,
   "metadata": {},
   "outputs": [],
   "source": []
  }
 ],
 "metadata": {
  "interpreter": {
   "hash": "626adb18ef395280b94c241822965e1af678bd821882f03ce31a23086830751b"
  },
  "kernelspec": {
   "display_name": "Python 3.8.10 64-bit ('mapplot': conda)",
   "name": "python3"
  },
  "language_info": {
   "codemirror_mode": {
    "name": "ipython",
    "version": 3
   },
   "file_extension": ".py",
   "mimetype": "text/x-python",
   "name": "python",
   "nbconvert_exporter": "python",
   "pygments_lexer": "ipython3",
   "version": "3.11.0"
  }
 },
 "nbformat": 4,
 "nbformat_minor": 5
}
