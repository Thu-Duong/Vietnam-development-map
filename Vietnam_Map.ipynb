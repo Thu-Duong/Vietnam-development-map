{
 "cells": [
  {
   "cell_type": "markdown",
   "source": [
    "# Vietnam\n",
    "\n",
    "\n",
    "\n",
    "## Table of contents\n",
    "1. [General Geography](#1)<br>\n",
    "    1.1 [Soil Map](#11)<br>\n",
    "    1.2 [Road and Railway Network](#12)<br>\n",
    "2. [Poverty in Vietnam](#2)<br>\n",
    "    2.1 [The percentage of malnourished children under 5 in 2018 by locality](#21)<br>\n",
    "    2.2 [Proportion of poor households by region in Vietnam from 1998 to 2016 ](#22)<br>\n",
    "3. [Vietnam Economy](#3)<br>\n",
    "    3.1 [Employment](#31)<br>\n",
    "    3.2 [The Aquaculture Production of Vietnam from 2013 to 2018 by Provinces](#32)<br>\n",
    "    3.3 [Various sources of income by provinces  in 2018 in Vietnam](#33)<br>\n",
    "\n",
    "I. [Important Notes](#333)<br>\n",
    "II. [References](#666)<br>"
   ],
   "metadata": {}
  },
  {
   "cell_type": "code",
   "execution_count": 1,
   "source": [
    "import json\r\n",
    "import pandas as pd\r\n",
    "import numpy as np\r\n",
    "import plotly.express as px\r\n",
    "import plotly.graph_objects as go\r\n",
    "import geopandas as gpd\r\n",
    "import shapely.geometry\r\n",
    "from ipywidgets import widgets\r\n",
    "# Plot in browser\r\n",
    "import plotly.io as pio\r\n",
    "pio.renderers.default = 'browser'\r\n",
    "\r\n",
    "from codes.auxiliary import convert_id_map\r\n",
    "from codes.plot import *"
   ],
   "outputs": [],
   "metadata": {}
  },
  {
   "cell_type": "markdown",
   "source": [
    "## 1. General Geography <a id=\"1\"></a>\n",
    "\n",
    "### 1.1 Soil Map <a id=\"11\"></a>\n",
    "\n",
    "Dataset of soil types of Vietnam is a geospatial polygon data which is based on FAO classification\n",
    "\n",
    "[Source](https://data.opendevelopmentmekong.net/dataset/soil-types-in-vietnam)"
   ],
   "metadata": {}
  },
  {
   "cell_type": "code",
   "execution_count": 2,
   "source": [
    "soil_geo = json.load(open('geodata/soilmap_vietnam.geojson',\"r\"))\r\n",
    "\r\n",
    "# split unique soil type\r\n",
    "imap = convert_id_map(soil_geo, 'Type', 'faosoil')\r\n",
    "map_keys = imap.keys()\r\n",
    "soil_list = []\r\n",
    "soil_dict = {}\r\n",
    "for key in map_keys:\r\n",
    "    soil_type = key.split(\"sols\")[0]\r\n",
    "    soil_type +=\"sols\"\r\n",
    "    if key not in soil_dict.keys():\r\n",
    "        soil_dict[key] = soil_type\r\n",
    "    if soil_type not in soil_list:\r\n",
    "        soil_list.append(soil_type)\r\n",
    "\r\n",
    "# Soilmap Dataframe\r\n",
    "soil_pd = gpd.read_file('geodata/soilmap_vietnam.geojson')\r\n",
    "# soil_pd = soil_pd.iloc[:,0:4]\r\n",
    "soil_pd[\"Soil_type\"] = soil_pd['Type'].map(soil_dict)"
   ],
   "outputs": [],
   "metadata": {}
  },
  {
   "cell_type": "code",
   "execution_count": 3,
   "source": [
    "# Plotting soil map\r\n",
    "fig = px.choropleth_mapbox(\r\n",
    "    soil_pd,\r\n",
    "    geojson=soil_geo,\r\n",
    "    color = \"Soil_type\",\r\n",
    "    color_discrete_sequence=px.colors.qualitative.Light24,\r\n",
    "    locations = \"gid\",\r\n",
    "    featureidkey=\"properties.gid\",\r\n",
    "    mapbox_style = \"carto-positron\",\r\n",
    "    center = {\"lat\": 16, \"lon\": 106},\r\n",
    "    zoom = 5,\r\n",
    "    title = \"Soil Map\"\r\n",
    "    )\r\n",
    "    \r\n",
    "fig.update_layout(margin={\"r\":0,\"t\":0,\"l\":0,\"b\":0})\r\n",
    "fig.show()"
   ],
   "outputs": [],
   "metadata": {}
  },
  {
   "cell_type": "markdown",
   "source": [
    "<img src=\"figures/soilmap.png\" alt=\"drawing\" style=\"width:950px;\"/>"
   ],
   "metadata": {}
  },
  {
   "cell_type": "markdown",
   "source": [
    "### 1.2 Road and Railway network <a id=\"12\"></a>\n",
    "\n",
    "A geospatial dataset containing polylines of transportation network in Vietnam. It contains the railways, the principal roads and the secondary roads.\n",
    "[Source](https://data.opendevelopmentmekong.net/dataset/giao-thng-vit-nam)"
   ],
   "metadata": {}
  },
  {
   "cell_type": "code",
   "execution_count": 4,
   "source": [
    "# open a zipped shapefile with the zip:// pseudo-protocol\r\n",
    "transport_df = gpd.read_file(\"geodata/transport.zip\")\r\n",
    "\r\n",
    "lats = []\r\n",
    "lons = []\r\n",
    "names = []\r\n",
    "\r\n",
    "for feature, name in zip(transport_df.geometry, transport_df.Name):\r\n",
    "    if isinstance(feature, shapely.geometry.linestring.LineString):\r\n",
    "        linestrings = [feature]\r\n",
    "    elif isinstance(feature, shapely.geometry.multilinestring.MultiLineString):\r\n",
    "        linestrings = feature.geoms\r\n",
    "    else:\r\n",
    "        continue\r\n",
    "    for linestring in linestrings:\r\n",
    "        x, y = linestring.xy\r\n",
    "        lats = np.append(lats, y)\r\n",
    "        lons = np.append(lons, x)\r\n",
    "        names = np.append(names, [name]*len(y))\r\n",
    "        lats = np.append(lats, None)\r\n",
    "        lons = np.append(lons, None)\r\n",
    "        names = np.append(names, None)\r\n",
    "\r\n",
    "fig = px.line_mapbox(lat=lats, lon=lons, hover_name=names,\r\n",
    "                     mapbox_style=\"stamen-terrain\", zoom=4.5, center={\"lat\": 16, \"lon\": 106})\r\n",
    "\r\n",
    "fig.show()"
   ],
   "outputs": [],
   "metadata": {}
  },
  {
   "cell_type": "markdown",
   "source": [
    "<img src=\"figures/South_railway_road.png\" alt=\"drawing\" style=\"width:950px;\"/>"
   ],
   "metadata": {}
  },
  {
   "cell_type": "markdown",
   "source": [
    "## 2. Poverty In Vietnam <a id=\"2\"></a>\n",
    "\n",
    "### 2.1. The percentage of malnourished children under 5 in 2018 by locality <a id=\"21\"></a>\n",
    "\n",
    "The attributes include the total weight, hight and weight based on height."
   ],
   "metadata": {}
  },
  {
   "cell_type": "code",
   "execution_count": 6,
   "source": [
    "# Malnutrition data\r\n",
    "malnutrition_children_vn_2018  = pd.read_csv(\"geodata/malnutrition_children_vn_2018.csv\")\r\n",
    "\r\n",
    "#Vietnam map\r\n",
    "vietnam_geo = json.load(open(\"geodata/vietnam_state.geojson\",\"r\"))\r\n",
    "\r\n",
    "# Plotting\r\n",
    "fig = px.choropleth_mapbox(\r\n",
    "    malnutrition_children_vn_2018,\r\n",
    "    locations = 'Code',\r\n",
    "    featureidkey=\"properties.Code\",\r\n",
    "    geojson = vietnam_geo,\r\n",
    "    color = 'Wei_Hei',\r\n",
    "    hover_name = \"Name\",\r\n",
    "    mapbox_style = \"carto-positron\",\r\n",
    "    center = {\"lat\": 16,\"lon\": 106},\r\n",
    "    zoom = 4.5,\r\n",
    "    title = \"malnourished children under 5 in 2018 by locality in Vietnam \",\r\n",
    ")\r\n",
    "fig.update_geos(fitbounds = \"locations\", visible=False)\r\n",
    "fig.show()"
   ],
   "outputs": [],
   "metadata": {}
  },
  {
   "cell_type": "markdown",
   "source": [
    "<img src=\"figures/Malnutrion_children_2018.png\" alt=\"drawing\" style=\"width:950px;\"/>\n",
    "\n",
    "### 2.2 Proportion of poor households by region in Vietnam from 1998 to 2016  <a id=\"22\"></a>\n",
    "The dataset includes le pourcentage of poor households by region in Vietnam from 1998 to 2016. The standard of poor households for this period based on the average income per person per month of households is updated according to the consumer price index as follows: In 2010, VND 400,000 for rural areas and VND 500,000 for urban areas; Similarly, in 2013 it was VND 570,000 and VND 710,000; in 2014, VND 605,000 dong and VND 750,000; in 2015, there were VND 615,000 and VND 760,000 dong; In 2016, VND 630,000 and VND 780,000 respectively."
   ],
   "metadata": {}
  },
  {
   "cell_type": "code",
   "execution_count": 7,
   "source": [
    "# Import the Vietnam map by region data (error geojson file)\r\n",
    "vnregion_geo = json.load(open(\"geodata/poverty_rate_1998_2016.geojson\", \"r\",encoding='utf-8'))\r\n",
    "\r\n",
    "# Import aquaculture_production csv\r\n",
    "poverty_rate_1998_2016 = pd.read_csv(\"geodata/poverty_rate_1998_2016.csv\")\r\n",
    "cols = sorted(poverty_rate_1998_2016.columns[3:], reverse=False)\r\n",
    "\r\n",
    "for i, y in enumerate(cols):\r\n",
    "    poverty = \"Poverty\" + y\r\n",
    "    poverty_rate_1998_2016[poverty] = poverty_rate_1998_2016[y]\r\n",
    "\r\n",
    "# Convert wide to long format\r\n",
    "poverty = poverty_rate_1998_2016.drop(cols, axis=1)\r\n",
    "final_poverty = pd.wide_to_long(poverty,\"Poverty\", i=['Name_EN','Name_VI','id'], j= \"year\")\r\n",
    "final_poverty.reset_index(inplace=True)"
   ],
   "outputs": [],
   "metadata": {}
  },
  {
   "cell_type": "markdown",
   "source": [
    "### Choropleth map using GeoJSON"
   ],
   "metadata": {}
  },
  {
   "cell_type": "code",
   "execution_count": 8,
   "source": [
    "input_year ='1998' #1998 2002 2004 2006 2008 2010 2011 2012 2013 2014 2015 2016\r\n",
    "\r\n",
    "fig = px.choropleth_mapbox(\r\n",
    "    poverty_rate_1998_2016,\r\n",
    "    locations = 'id',\r\n",
    "    geojson = vnregion_geo,\r\n",
    "    featureidkey=\"properties.id\",\r\n",
    "    color = \"Poverty\" + input_year ,\r\n",
    "    color_continuous_scale=\"Viridis\",\r\n",
    "    range_color=(0, 65),\r\n",
    "    hover_name = \"Name_EN\",\r\n",
    "    # hover_data = [\"Poverty_percentage\" + input_year],\r\n",
    "    mapbox_style = \"carto-positron\",\r\n",
    "    center = {\"lat\": 17,\"lon\": 106},\r\n",
    "    zoom = 4.5,\r\n",
    "    title = \"Proportion of poor households by region in Vietnam \"+ input_year,\r\n",
    ")\r\n",
    "fig.update_geos(fitbounds = \"locations\", visible=False)\r\n",
    "fig.show()"
   ],
   "outputs": [],
   "metadata": {}
  },
  {
   "cell_type": "markdown",
   "source": [
    "<img src=\"figures/poverty_rate_1998_2016.png\" alt=\"drawing\" style=\"width:950px;\"/>\n",
    "\n",
    "### Animated figures with GeoJSON, Plotly Express"
   ],
   "metadata": {}
  },
  {
   "cell_type": "code",
   "execution_count": 9,
   "source": [
    "fig = px.choropleth(\r\n",
    "    final_poverty,\r\n",
    "    locations = 'id',\r\n",
    "    featureidkey=\"properties.id\",\r\n",
    "    animation_frame = \"year\",\r\n",
    "    geojson = vnregion_geo,\r\n",
    "    color = \"Poverty\",\r\n",
    "    color_continuous_scale=\"Viridis\",\r\n",
    "    range_color=(0, 65),\r\n",
    "    hover_name = \"Name_EN\",\r\n",
    "    # hover_data = ['Poverty_percentage'],\r\n",
    "    title = \"Proportion of poor households by region in Vietnam from 1998 to 2016\",\r\n",
    ")\r\n",
    "fig.update_geos(fitbounds = \"locations\", visible=False)\r\n",
    "fig.show()"
   ],
   "outputs": [],
   "metadata": {
    "tags": []
   }
  },
  {
   "cell_type": "markdown",
   "source": [
    "## 3. Vietnam Economy <a id=\"3\"></a>\n",
    "\n",
    "### 3.1 Employment <a id=\"31\"></a>\n",
    "\n",
    "[Source](https://www.gso.gov.vn/en/employment/)\n"
   ],
   "metadata": {}
  },
  {
   "cell_type": "code",
   "execution_count": 10,
   "source": [
    "# Import csv\r\n",
    "trained_employee = pd.read_csv(\"geodata/trained_employee15_vn.csv\")\r\n",
    "labor_force = pd.read_csv(\"geodata/labor_force_vn.csv\")"
   ],
   "outputs": [],
   "metadata": {}
  },
  {
   "cell_type": "markdown",
   "source": [
    "<img src=\"figures/Percent_employ15.png\" alt=\"drawing\" style=\"width:950px;\"/>"
   ],
   "metadata": {}
  },
  {
   "cell_type": "markdown",
   "source": [
    "#### Labour force at 15 years of age and above by province "
   ],
   "metadata": {}
  },
  {
   "cell_type": "code",
   "execution_count": 11,
   "source": [
    "title31 = \"Labour force at 15 years of age and above by province from 2010 to 2018\"\r\n",
    "plot_animation_frame_vietnamstate(labor_force,vietnam_geo,\"labor_force\", title31)"
   ],
   "outputs": [],
   "metadata": {}
  },
  {
   "cell_type": "markdown",
   "source": [
    "#### Percentage of employed workers at 15 years of age and above among population by province "
   ],
   "metadata": {}
  },
  {
   "cell_type": "code",
   "execution_count": 12,
   "source": [
    "title32 = \"Percentage of employed workers at 15 years of age and above among population by province from 2010 to 2018\"\r\n",
    "plot_animation_frame_vietnamstate(trained_employee,vietnam_geo,\"percentage\", title32)"
   ],
   "outputs": [],
   "metadata": {}
  },
  {
   "cell_type": "markdown",
   "source": [
    "\n",
    "### 3.2 The Aquaculture Production of Vietnam from 2013 to 2018 by Provinces <a id=\"32\"></a>\n",
    "Published by: Open Development Vietnam The data provides information on Vietnam's aquaculture production from 2013 to 2018. The aquaculture in Vietnam includes: farmed fish production, farmed shrimp production and other aquatic products. Aquaculture production is divided by province and city."
   ],
   "metadata": {}
  },
  {
   "cell_type": "code",
   "execution_count": 13,
   "source": [
    "# import the Vietnam map by provinces data\r\n",
    "vietnam_geo = json.load(open(\"geodata/vietnam_state.geojson\", \"r\"))\r\n",
    "\r\n",
    "# Convert map properties/\r\n",
    "state_id_map = convert_id_map(vietnam_geo, \"Name\", \"Code\")"
   ],
   "outputs": [],
   "metadata": {}
  },
  {
   "cell_type": "code",
   "execution_count": 14,
   "source": [
    "# Import aquaculture_production csv\r\n",
    "df = pd.read_csv(\"geodata/aquaculture_production_2013__2018.csv\")\r\n",
    "years = ['2013','2014','2015','2016','2017','2018']\r\n",
    "for i, y in enumerate(years):\r\n",
    "    scale = 'Production_Scale'+ y\r\n",
    "    prod = 'Production' + y\r\n",
    "    df[scale] = np.log10(df[y])\r\n",
    "    df[prod] = df[y]\r\n",
    "\r\n",
    "# Convert wide to long format\r\n",
    "prod = df.drop(years, axis=1)\r\n",
    "final_prod = pd.wide_to_long(prod, stubnames=['Production_Scale','Production'], i=['Name','Code'], j=\"year\")\r\n",
    "final_prod.reset_index(inplace=True)"
   ],
   "outputs": [],
   "metadata": {}
  },
  {
   "cell_type": "markdown",
   "source": [
    "### Choropleth map using GeoJSON"
   ],
   "metadata": {}
  },
  {
   "cell_type": "code",
   "execution_count": 15,
   "source": [
    "input_year = '2018'\r\n",
    "fig = px.choropleth_mapbox(\r\n",
    "    df,\r\n",
    "    geojson = vietnam_geo,\r\n",
    "    locations =\"Code\",\r\n",
    "    color = \"Production_Scale\" + input_year,\r\n",
    "    range_color=(2, 6),\r\n",
    "    hover_name = \"Name\",\r\n",
    "    featureidkey = \"properties.Code\",\r\n",
    "    hover_data = ['Production'+ input_year],\r\n",
    "    mapbox_style=\"carto-positron\",\r\n",
    "    center={\"lat\": 16, \"lon\": 106},\r\n",
    "    zoom=4.5,\r\n",
    "    title =\"The Aquaculture Production of Vietnam by Province in \" + input_year\r\n",
    ")\r\n",
    "fig.update_geos(fitbounds =\"locations\", visible=False)\r\n",
    "fig.show()"
   ],
   "outputs": [],
   "metadata": {}
  },
  {
   "cell_type": "markdown",
   "source": [
    "<img src=\"figures/Aqua_prod_2013.png\" alt=\"drawing\" style=\"width:950px;\"/>\n",
    "\n",
    "### Animated figures with GeoJSON, Plotly Express"
   ],
   "metadata": {}
  },
  {
   "cell_type": "code",
   "execution_count": 16,
   "source": [
    "title33 = \"The Aquaculture Production of Vietnam from 2013 to 2018 by Province\"\r\n",
    "plot_animation_frame_vietnamstate(final_prod, vietnam_geo, \"Production_Scale\", title33)"
   ],
   "outputs": [],
   "metadata": {}
  },
  {
   "cell_type": "markdown",
   "source": [
    "## 3.3 Various sources of income by provinces  in 2018 in Vietnam  <a id=\"33\"></a>\n",
    "\n",
    "The data provide the information on per capita in come by province in 2018 in Vietnam. The total income per month includes the salary, the income from agriculture, forestry, aquaculture and non-agriculture, non-forestry, non-aquaculture and from other income. The income unit is in thousands vnd\n",
    "\n",
    "[Source](https://data.opendevelopmentmekong.net/dataset/per-capita-income-by-province-in-2018-in-vietnam)"
   ],
   "metadata": {
    "tags": []
   }
  },
  {
   "cell_type": "code",
   "execution_count": 17,
   "source": [
    "# Import csv and geojson\r\n",
    "income_df = pd.read_csv(\"geodata/thunhapbinhquan.csv\")\r\n",
    "categories = sorted(income_df.columns[3:])\r\n",
    "\r\n",
    "#Vietnam map\r\n",
    "vietnam_geo = json.load(open(\"geodata/vietnam_state.geojson\",\"r\"))"
   ],
   "outputs": [],
   "metadata": {}
  },
  {
   "cell_type": "markdown",
   "source": [
    "<img src=\"figures/Wage_agri_by_province.png\" alt=\"drawing\" style=\"width:950px;\"/>"
   ],
   "metadata": {}
  },
  {
   "cell_type": "code",
   "execution_count": 18,
   "source": [
    "trace = go.Choroplethmapbox(\r\n",
    "    geojson = vietnam_geo,\r\n",
    "    featureidkey='properties.Code',\r\n",
    "    locations = income_df[\"Code\"],\r\n",
    "    z=income_df.loc[0:, 'income_total_average'],\r\n",
    "    hovertext = 'Province: ' + income_df.Name_EN,\r\n",
    "    colorscale ='viridis',\r\n",
    "    marker_opacity=0.9,\r\n",
    "    marker_line_width=0.9,\r\n",
    "    showscale=True\r\n",
    "    )\r\n",
    "\r\n",
    "lyt = dict(title='Income by provinces',\r\n",
    "           height = 700,\r\n",
    "           mapbox_style = \"white-bg\",\r\n",
    "           mapbox_zoom = 4,\r\n",
    "           mapbox_center = {\"lat\": 17,\"lon\": 106})\r\n",
    "\r\n",
    "fig = go.FigureWidget(data=[trace], layout=lyt)\r\n",
    "\r\n",
    "# Add dropdowns\r\n",
    "## 'Income' dropdown\r\n",
    "cat_options = ['total_average', 'salary', 'agri', 'non_agri', 'others']\r\n",
    "category = widgets.Dropdown(options=cat_options,\r\n",
    "                            value='total_average',\r\n",
    "                            description='Category')\r\n",
    "\r\n",
    "# Add Submit button\r\n",
    "submit = widgets.Button(description='Submit',\r\n",
    "                        disabled=False,\r\n",
    "                        button_style='info',\r\n",
    "                        icon='check')"
   ],
   "outputs": [],
   "metadata": {}
  },
  {
   "cell_type": "code",
   "execution_count": 19,
   "source": [
    "def submit_event_handler(args):\r\n",
    "    if category.value in cat_options:\r\n",
    "        new_data = income_df.loc[0:, 'income_' + str(category.value)]\r\n",
    "        with fig.batch_update():\r\n",
    "            fig.data[0].z = new_data\r\n",
    "            fig.layout.title = ' '.join(['Income ',str(category.value), ' in 2018'])\r\n",
    "\r\n",
    "submit.on_click(submit_event_handler)\r\n",
    "\r\n",
    "container = widgets.HBox([category, submit])\r\n",
    "widgets.VBox([container, fig])"
   ],
   "outputs": [
    {
     "output_type": "display_data",
     "data": {
      "text/plain": [
       "VBox(children=(HBox(children=(Dropdown(description='Category', options=('total_average', 'salary', 'agri', 'no…"
      ],
      "application/vnd.jupyter.widget-view+json": {
       "version_major": 2,
       "version_minor": 0,
       "model_id": "dbb3155c5c924d1aa1e95214ce50f961"
      }
     },
     "metadata": {}
    }
   ],
   "metadata": {}
  },
  {
   "cell_type": "markdown",
   "source": [
    "## Important Notes <a id=\"333\"></a>\n",
    "\n",
    "\n",
    "## Reference <a id=\"666\"></a>\n",
    "For additional information and attributes for creating bubble charts in Plotly see: https://plotly.com/python/bubble-charts/.\n",
    "\n",
    "For more documentation on creating animations with Plotly, see https://plotly.com/python/animations."
   ],
   "metadata": {}
  },
  {
   "cell_type": "code",
   "execution_count": null,
   "source": [],
   "outputs": [],
   "metadata": {}
  }
 ],
 "metadata": {
  "interpreter": {
   "hash": "626adb18ef395280b94c241822965e1af678bd821882f03ce31a23086830751b"
  },
  "kernelspec": {
   "name": "python3",
   "display_name": "Python 3.8.10 64-bit ('mapplot': conda)"
  },
  "language_info": {
   "codemirror_mode": {
    "name": "ipython",
    "version": 3
   },
   "file_extension": ".py",
   "mimetype": "text/x-python",
   "name": "python",
   "nbconvert_exporter": "python",
   "pygments_lexer": "ipython3",
   "version": "3.8.10"
  }
 },
 "nbformat": 4,
 "nbformat_minor": 5
}