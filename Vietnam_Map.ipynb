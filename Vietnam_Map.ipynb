{
 "cells": [
  {
   "cell_type": "code",
   "execution_count": null,
   "id": "6d6ed49a-8ac1-4f78-aec6-421edb57ec92",
   "metadata": {},
   "outputs": [],
   "source": []
  },
  {
   "cell_type": "code",
   "execution_count": 5,
   "id": "58227f98-e2f4-4a16-995f-c371fb25c4f7",
   "metadata": {},
   "outputs": [
    {
     "data": {
      "text/html": [
       "        <script type=\"text/javascript\">\n",
       "        window.PlotlyConfig = {MathJaxConfig: 'local'};\n",
       "        if (window.MathJax) {MathJax.Hub.Config({SVG: {font: \"STIX-Web\"}});}\n",
       "        if (typeof require !== 'undefined') {\n",
       "        require.undef(\"plotly\");\n",
       "        requirejs.config({\n",
       "            paths: {\n",
       "                'plotly': ['https://cdn.plot.ly/plotly-2.2.0.min']\n",
       "            }\n",
       "        });\n",
       "        require(['plotly'], function(Plotly) {\n",
       "            window._Plotly = Plotly;\n",
       "        });\n",
       "        }\n",
       "        </script>\n",
       "        "
      ]
     },
     "metadata": {},
     "output_type": "display_data"
    },
    {
     "data": {
      "text/html": [
       "        <script type=\"text/javascript\">\n",
       "        window.PlotlyConfig = {MathJaxConfig: 'local'};\n",
       "        if (window.MathJax) {MathJax.Hub.Config({SVG: {font: \"STIX-Web\"}});}\n",
       "        if (typeof require !== 'undefined') {\n",
       "        require.undef(\"plotly\");\n",
       "        requirejs.config({\n",
       "            paths: {\n",
       "                'plotly': ['https://cdn.plot.ly/plotly-2.2.0.min']\n",
       "            }\n",
       "        });\n",
       "        require(['plotly'], function(Plotly) {\n",
       "            window._Plotly = Plotly;\n",
       "        });\n",
       "        }\n",
       "        </script>\n",
       "        "
      ]
     },
     "metadata": {},
     "output_type": "display_data"
    }
   ],
   "source": [
    "import json\n",
    "import pandas as pd\n",
    "import numpy as np\n",
    "import seaborn as sns\n",
    "import matplotlib.pyplot as plt\n",
    "import plotly.express as px\n",
    "%matplotlib inline\n",
    "\n",
    "# Make Plotly work in your Jupyter Notebook\n",
    "import cufflinks as cf\n",
    "import chart_studio.plotly as py\n",
    "from plotly.offline import download_plotlyjs, init_notebook_mode, plot, iplot\n",
    "init_notebook_mode(connected=True)\n",
    "# Use Plotly locally\n",
    "cf.go_offline()"
   ]
  },
  {
   "cell_type": "markdown",
   "id": "aeab7b54-3c65-4e24-8e90-106b29240d1b",
   "metadata": {},
   "source": [
    "## 1. The Aquaculture Production of Vietnam from 2013 to 2018 by Provinces\n",
    "Published by: Open Development Vietnam The data provides information on Vietnam's aquaculture production from 2013 to 2018. The aquaculture in Vietnam includes: farmed fish production, farmed shrimp production and other aquatic products. Aquaculture production is divided by province and city."
   ]
  },
  {
   "cell_type": "code",
   "execution_count": 2,
   "id": "9f55f7a7-e648-463e-b7f9-8fd12a17c5e5",
   "metadata": {},
   "outputs": [],
   "source": [
    "# import the Vietnam map by provinces data\n",
    "vietnam_geo = json.load(open(\"geodata/aquaculture_production_of_vietnam.geojson\", \"r\"))\n",
    "\n",
    "# # Convert map properties/\n",
    "# state_id_map = {}\n",
    "# for feature in vietnam_geo[\"features\"]:\n",
    "#     feature[\"id\"] = feature[\"properties\"][\"Code\"]\n",
    "#     state_id_map[feature[\"properties\"][\"Name\"]] = feature[\"id\"]"
   ]
  },
  {
   "cell_type": "code",
   "execution_count": 3,
   "id": "3aa2d417-6705-4818-ac67-dcecb447924d",
   "metadata": {},
   "outputs": [],
   "source": [
    "# Import aquaculture_production csv\n",
    "df = pd.read_csv(\"geodata/tsnt_2013__2018_en.csv\")\n",
    "years = ['2013','2014','2015','2016','2017','2018']\n",
    "for i, y in enumerate(years):\n",
    "    col = 'ProdScale'+ y\n",
    "    df[col] = np.log10(df[y])\n",
    "\n",
    "# Convert wide to long format\n",
    "tsnt = df.drop(years, axis=1)\n",
    "final_tsnt = pd.wide_to_long(tsnt,'ProdScale', i=['Provincial name','Provincial code'], j=\"year\")\n",
    "final_tsnt.reset_index(inplace=True)"
   ]
  },
  {
   "cell_type": "code",
   "execution_count": 7,
   "id": "6993e0c8-baca-4e30-8803-110eefb712ff",
   "metadata": {},
   "outputs": [],
   "source": [
    "fig = px.choropleth(\n",
    "    final_tsnt,\n",
    "    locations =\"Provincial code\",\n",
    "    animation_frame = \"year\",\n",
    "    geojson = vietnam_geo,\n",
    "    color =\"ProdScale\",\n",
    "    hover_name = \"Provincial name\",\n",
    "    title =\"The Aquaculture Production of Vietnam from 2013 to 2018 by Provinces\",\n",
    ")\n",
    "fig.update_geos(fitbounds =\"locations\", visible=False)\n",
    "fig.show('browser')"
   ]
  },
  {
   "cell_type": "markdown",
   "id": "77530e17-18f0-48af-ae50-7a1d7d8c9246",
   "metadata": {},
   "source": [
    "## 2. Proportion of poor households by region in Vietnam from 1998 to 2016\n",
    "The dataset includes le pourcentage of poor households by region in Vietnam from 1998 to 2016. The standard of poor households for this period based on the average income per person per month of households is updated according to the consumer price index as follows: In 2010, VND 400,000 for rural areas and VND 500,000 for urban areas; Similarly, in 2013 it was VND 570,000 and VND 710,000; in 2014, VND 605,000 dong and VND 750,000; in 2015, there were VND 615,000 and VND 760,000 dong; In 2016, VND 630,000 and VND 780,000 respectively."
   ]
  },
  {
   "cell_type": "code",
   "execution_count": 8,
   "id": "8c6f1c28-5021-48c5-bcfb-8743e2290885",
   "metadata": {},
   "outputs": [],
   "source": [
    "# import the Vietnam map by region data\n",
    "vietnamregion_geo = json.load(open(\"geodata/poverty_rate_1998_2016.geojson\", \"r\", encoding=\"utf8\"))\n",
    "\n",
    "# # Convert map properties/\n",
    "# region_id_map = {}\n",
    "# for feature in vietnamregion_geo[\"features\"]:\n",
    "#     feature[\"id\"] = feature[\"properties\"][\"row\"]\n",
    "#     region_id_map[feature[\"properties\"][\"Name_EN\"]] = feature[\"id\"]\n",
    "\n",
    "\n",
    "# Import aquaculture_production csv\n",
    "poverty_rate_1998_2016 = pd.read_csv(\"geodata/poverty_rate_1998_2016.csv\",delimiter=\"\\t\")\n",
    "cols = sorted(poverty_rate_1998_2016.columns[3:], reverse=False)\n",
    "poverty_rate_1998_2016.drop(['row'], axis=1, inplace = True)\n",
    "\n",
    "for i, y in enumerate(cols):\n",
    "    col = 'PovertyRate'+ y\n",
    "    poverty_rate_1998_2016[col] = poverty_rate_1998_2016[y]\n",
    "\n",
    "# Convert wide to long format\n",
    "poverty = poverty_rate_1998_2016.drop(cols, axis=1)\n",
    "final_poverty = pd.wide_to_long(poverty,'PovertyRate', i=['Name_EN','Name_VI'], j=\"year\")\n",
    "final_poverty.reset_index(inplace=True)"
   ]
  },
  {
   "cell_type": "code",
   "execution_count": 9,
   "id": "68661d7a-e0a3-4bab-807e-a1460fe9d73b",
   "metadata": {},
   "outputs": [],
   "source": [
    "fig = px.choropleth(\n",
    "    final_poverty,\n",
    "    locations =\"Name_EN\",\n",
    "    animation_frame = \"year\",\n",
    "    geojson = vietnamregion_geo,\n",
    "    color =\"PovertyRate\",\n",
    "    hover_name = \"Name_EN\",\n",
    "    title =\"Proportion of poor households by region in Vietnam from 1998 to 2016\",\n",
    ")\n",
    "fig.update_geos(fitbounds =\"locations\", visible=False)\n",
    "fig.show('browser')"
   ]
  },
  {
   "cell_type": "code",
   "execution_count": null,
   "id": "80d7a371-c1c7-439a-8e0f-ee41456b7964",
   "metadata": {},
   "outputs": [],
   "source": []
  }
 ],
 "metadata": {
  "kernelspec": {
   "display_name": "Python 3 (ipykernel)",
   "language": "python",
   "name": "python3"
  },
  "language_info": {
   "codemirror_mode": {
    "name": "ipython",
    "version": 3
   },
   "file_extension": ".py",
   "mimetype": "text/x-python",
   "name": "python",
   "nbconvert_exporter": "python",
   "pygments_lexer": "ipython3",
   "version": "3.8.10"
  }
 },
 "nbformat": 4,
 "nbformat_minor": 5
}
