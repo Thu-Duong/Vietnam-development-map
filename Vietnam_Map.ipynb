{
 "metadata": {
  "language_info": {
   "codemirror_mode": {
    "name": "ipython",
    "version": 3
   },
   "file_extension": ".py",
   "mimetype": "text/x-python",
   "name": "python",
   "nbconvert_exporter": "python",
   "pygments_lexer": "ipython3",
   "version": "3.8.10"
  },
  "orig_nbformat": 4,
  "kernelspec": {
   "name": "python3",
   "display_name": "Python 3.8.10 64-bit ('mapplot': conda)"
  },
  "interpreter": {
   "hash": "626adb18ef395280b94c241822965e1af678bd821882f03ce31a23086830751b"
  }
 },
 "nbformat": 4,
 "nbformat_minor": 2,
 "cells": [
  {
   "cell_type": "markdown",
   "source": [
    "# Plotting Mekong Development Map by Choropleth Maps\r\n",
    "\r\n",
    ">A choropleth map is a type of thematic map in which areas are shaded or patterned in proportion to a statistical variable that represents an aggregate summary of a geographic characteristic within each area, such as population density or per-capita income.\r\n",
    "\r\n",
    "## Terminologies\r\n",
    "---\r\n",
    "\r\n",
    "## [Plotly](https://plotly.com/)\r\n",
    "Plotly is a technical computing company that develops online data analytics and visualization tools. Plotly provides online graphing, analytics, and statistics tools for individuals and collaboration, as well as scientific graphing libraries for Python, R, MATLAB, Perl, Julia, Arduino, and REST.\r\n",
    "\r\n",
    "### [plotly.py](https://plotly.com/python/)\r\n",
    "An interactive, open-source, and browser-based graphing library for Python.\r\n",
    "\r\n",
    "### [GeoJSON](https://geojson.org/)\r\n",
    "An open standard format designed for representing simple geographical features, along with their non-spatial attributes.\r\n",
    "\r\n",
    "### [Mapbox](https://mapbox.com/)\r\n",
    "An open source mapping platform for custom designed maps."
   ],
   "metadata": {}
  },
  {
   "cell_type": "code",
   "execution_count": 1,
   "source": [
    "import json\r\n",
    "import numpy as np\r\n",
    "import pandas as pd\r\n",
    "import plotly.express as px\r\n",
    "\r\n",
    "from codes.plot import *"
   ],
   "outputs": [],
   "metadata": {}
  },
  {
   "cell_type": "code",
   "execution_count": null,
   "source": [
    "import plotly.io as pio\r\n",
    "import os\r\n",
    "\r\n",
    "if os.environ.get(\"CI\") == \"true\":\r\n",
    "  pass\r\n",
    "else:\r\n",
    "  pio.renderers.default = 'browser'"
   ],
   "outputs": [],
   "metadata": {}
  },
  {
   "cell_type": "code",
   "execution_count": 2,
   "source": [
    "# import the Vietnam map by provinces data\r\n",
    "vietnam_geo = json.load(open(\"geodata/aquaculture_production_of_vietnam.geojson\", \"r\"))\r\n",
    "\r\n",
    "# # Convert map properties/\r\n",
    "# state_id_map = {}\r\n",
    "# for feature in vietnam_geo[\"features\"]:\r\n",
    "#     feature[\"id\"] = feature[\"properties\"][\"Code\"]\r\n",
    "#     state_id_map[feature[\"properties\"][\"Name\"]] = feature[\"id\"]"
   ],
   "outputs": [],
   "metadata": {}
  },
  {
   "cell_type": "markdown",
   "source": [
    "## 1. The Aquaculture Production of Vietnam from 2013 to 2018 by Provinces\r\n",
    "\r\n",
    "Published by: Open Development Vietnam\r\n",
    "The data provides information on Vietnam's aquaculture production from 2013 to 2018. The aquaculture in Vietnam includes: farmed fish production, farmed shrimp production and other aquatic products. Aquaculture production is divided by province and city."
   ],
   "metadata": {}
  },
  {
   "cell_type": "code",
   "execution_count": 3,
   "source": [
    "# Import aquaculture_production csv\r\n",
    "df = pd.read_csv(\"geodata/tsnt_2013__2018_en.csv\")\r\n",
    "years = ['2013','2014','2015','2016','2017','2018']\r\n",
    "for i, y in enumerate(years):\r\n",
    "    col = 'ProdScale'+ y\r\n",
    "    df[col] = np.log10(df[y])\r\n",
    "\r\n",
    "# Convert wide to long format\r\n",
    "tsnt = df.drop(years, axis=1)\r\n",
    "final_tsnt = pd.wide_to_long(tsnt,'ProdScale', i=['Provincial name','Provincial code'], j=\"year\")\r\n",
    "final_tsnt.reset_index(inplace=True)"
   ],
   "outputs": [],
   "metadata": {}
  },
  {
   "cell_type": "code",
   "execution_count": 4,
   "source": [
    "fig = px.choropleth(\r\n",
    "    final_tsnt,\r\n",
    "    locations =\"Provincial code\",\r\n",
    "    animation_frame = \"year\",\r\n",
    "    geojson = vietnam_geo,\r\n",
    "    color =\"ProdScale\",\r\n",
    "    hover_name = \"Provincial name\",\r\n",
    "    title =\"The Aquaculture Production of Vietnam from 2013 to 2018 by Provinces\",\r\n",
    ")\r\n",
    "fig.update_geos(fitbounds =\"locations\", visible=False)\r\n",
    "fig.show()"
   ],
   "outputs": [],
   "metadata": {}
  },
  {
   "cell_type": "markdown",
   "source": [
    "## 2. Proportion of poor households by region in Vietnam from 1998 to 2016\r\n",
    "\r\n",
    "The dataset includes le pourcentage of poor households by region in Vietnam from 1998 to 2016. The standard of poor households for this period based on the average income per person per month of households is updated according to the consumer price index as follows: In 2010, VND 400,000 for rural areas and VND 500,000 for urban areas; Similarly, in 2013 it was VND 570,000 and VND 710,000; in 2014, VND 605,000 dong and VND 750,000; in 2015, there were VND 615,000 and VND 760,000 dong; In 2016, VND 630,000 and VND 780,000 respectively."
   ],
   "metadata": {}
  },
  {
   "cell_type": "code",
   "execution_count": 5,
   "source": [
    "# import the Vietnam map by region data\r\n",
    "vietnamregion_geo = json.load(open(\"geodata/poverty_rate_1998_2016.geojson\", \"r\", encoding=\"utf8\"))\r\n",
    "\r\n",
    "# # Convert map properties/\r\n",
    "# region_id_map = {}\r\n",
    "# for feature in vietnamregion_geo[\"features\"]:\r\n",
    "#     feature[\"id\"] = feature[\"properties\"][\"row\"]\r\n",
    "#     region_id_map[feature[\"properties\"][\"Name_EN\"]] = feature[\"id\"]"
   ],
   "outputs": [],
   "metadata": {}
  },
  {
   "cell_type": "code",
   "execution_count": 6,
   "source": [
    "# Import aquaculture_production csv\r\n",
    "poverty_rate_1998_2016 = pd.read_csv(\"geodata/poverty_rate_1998_2016.csv\",delimiter=\"\\t\")\r\n",
    "cols = sorted(poverty_rate_1998_2016.columns[3:], reverse=False)\r\n",
    "poverty_rate_1998_2016.drop(['row'], axis=1, inplace = True)\r\n",
    "\r\n",
    "for i, y in enumerate(cols):\r\n",
    "    col = 'PovertyRate'+ y\r\n",
    "    poverty_rate_1998_2016[col] = poverty_rate_1998_2016[y]\r\n",
    "\r\n",
    "# Convert wide to long format\r\n",
    "poverty = poverty_rate_1998_2016.drop(cols, axis=1)\r\n",
    "final_poverty = pd.wide_to_long(poverty,'PovertyRate', i=['Name_EN','Name_VI'], j=\"year\")\r\n",
    "final_poverty.reset_index(inplace=True)"
   ],
   "outputs": [],
   "metadata": {}
  },
  {
   "cell_type": "code",
   "execution_count": 7,
   "source": [
    "fig = px.choropleth(\r\n",
    "    final_poverty,\r\n",
    "    locations =\"Name_EN\",\r\n",
    "    animation_frame = \"year\",\r\n",
    "    geojson = vietnamregion_geo,\r\n",
    "    color =\"PovertyRate\",\r\n",
    "    hover_name = \"Name_EN\",\r\n",
    "    title =\"Proportion of poor households by region in Vietnam from 1998 to 2016\",\r\n",
    ")\r\n",
    "fig.update_geos(fitbounds =\"locations\", visible=False)\r\n",
    "fig.show()"
   ],
   "outputs": [],
   "metadata": {}
  },
  {
   "cell_type": "markdown",
   "source": [],
   "metadata": {}
  }
 ]
}