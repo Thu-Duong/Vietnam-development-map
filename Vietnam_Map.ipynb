{
 "cells": [
  {
   "cell_type": "markdown",
   "source": [
    "# Plotting Vietnam Development Map\r\n",
    "\r\n",
    "\r\n",
    "\r\n",
    "## Table of contents\r\n",
    "1. [The Aquaculture Production of Vietnam from 2013 to 2018 by Provinces](#1)<br>\r\n",
    "    1.1 [Data](#11)<br>\r\n",
    "    1.2 [Choropleth map using GeoJSON](#12)<br>\r\n",
    "    1.3 [Animated figures with Plotly Express](#13)<br>\r\n",
    "2. [Proportion of poor households by region in Vietnam from 1998 to 2016 ](#2)<br>\r\n",
    "    2.1 [Data](#21)<br>\r\n",
    "    2.2 [Choropleth map using GeoJSON](#22)<br>\r\n",
    "    2.3 [Animated figures with Plotly Express](#23)<br>\r\n",
    "5. [Important Notes](#333)<br>\r\n",
    "5. [References](#666)<br>\r\n",
    "\r\n",
    "\r\n",
    "<img src=\"figures/vietnam-map-with-states.jpg\" alt=\"drawing\" style=\"width:300px;\"/>"
   ],
   "metadata": {}
  },
  {
   "cell_type": "code",
   "execution_count": 1,
   "source": [
    "import json\r\n",
    "import pandas as pd\r\n",
    "import numpy as np\r\n",
    "import seaborn as sns\r\n",
    "import matplotlib.pyplot as plt\r\n",
    "import plotly.express as px\r\n",
    "%matplotlib inline\r\n",
    "\r\n",
    "# Plot in browser (recommended)\r\n",
    "import plotly.io as pio\r\n",
    "pio.renderers.default = 'browser'\r\n",
    "\r\n",
    "# Make Plotly work in your Jupyter Notebook\r\n",
    "# import cufflinks as cf\r\n",
    "# import chart_studio.plotly as py\r\n",
    "# from plotly.offline import download_plotlyjs, init_notebook_mode, plot, iplot\r\n",
    "# init_notebook_mode(connected=True)\r\n",
    "# # Use Plotly locally\r\n",
    "# cf.go_offline()"
   ],
   "outputs": [],
   "metadata": {}
  },
  {
   "cell_type": "markdown",
   "source": [
    "## 1. The Aquaculture Production of Vietnam from 2013 to 2018 by Provinces <a id=\"1\"></a>\r\n",
    "Published by: Open Development Vietnam The data provides information on Vietnam's aquaculture production from 2013 to 2018. The aquaculture in Vietnam includes: farmed fish production, farmed shrimp production and other aquatic products. Aquaculture production is divided by province and city."
   ],
   "metadata": {}
  },
  {
   "cell_type": "code",
   "execution_count": 18,
   "source": [
    "# import the Vietnam map by provinces data\r\n",
    "vietnam_geo = json.load(open(\"geodata/aquaculture_production_of_vietnam.geojson\", \"r\"))\r\n",
    "\r\n",
    "# Convert map properties/\r\n",
    "state_id_map = {}\r\n",
    "for feature in vietnam_geo[\"features\"]:\r\n",
    "    feature[\"id\"] = feature[\"properties\"][\"Code\"]\r\n",
    "    state_id_map[feature[\"properties\"][\"Name\"]] = feature[\"id\"]\r\n",
    "\r\n",
    "# Import aquaculture_production csv\r\n",
    "df = pd.read_csv(\"geodata/tsnt_2013__2018_en.csv\")\r\n",
    "df.rename(columns={\"Provincial code\":'Code',\"Provincial name\":'Name'},inplace=True)\r\n",
    "years = ['2013','2014','2015','2016','2017','2018']\r\n",
    "for i, y in enumerate(years):\r\n",
    "    scale = 'ProdScale'+ y\r\n",
    "    prod = 'Production'+y\r\n",
    "    df[scale] = np.log10(df[y])\r\n",
    "    df[prod] = df[y]\r\n",
    "\r\n",
    "# Convert wide to long format\r\n",
    "tsnt = df.drop(years, axis=1)\r\n",
    "final_tsnt = pd.wide_to_long(tsnt, stubnames=['ProdScale','Production'], i=['Name','Code'], j=\"year\")\r\n",
    "final_tsnt.reset_index(inplace=True)"
   ],
   "outputs": [],
   "metadata": {}
  },
  {
   "cell_type": "markdown",
   "source": [
    "### 1.2 Choropleth map using GeoJSON <a id=\"12\"></a>"
   ],
   "metadata": {}
  },
  {
   "cell_type": "code",
   "execution_count": 13,
   "source": [
    "fig = px.choropleth(\r\n",
    "    df,\r\n",
    "    locations =\"Code\",\r\n",
    "    geojson = vietnam_geo,\r\n",
    "    color = \"ProdScale2013\",\r\n",
    "    hover_name = \"Name\",\r\n",
    "    hover_data = [\"2013\"],\r\n",
    "    title =\"The Aquaculture Production of Vietnam  2013 by Provinces\"\r\n",
    ")\r\n",
    "fig.update_geos(fitbounds =\"locations\", visible=False)\r\n",
    "fig.show()"
   ],
   "outputs": [],
   "metadata": {}
  },
  {
   "cell_type": "markdown",
   "source": [
    "<img src=\"figures/Aqua_prod_VN_2013.png\" alt=\"drawing\" style=\"width:950px;\"/>"
   ],
   "metadata": {}
  },
  {
   "cell_type": "markdown",
   "source": [
    "### 1.3 Animated figures with GeoJSON, Plotly Express <a id=\"12\"></a>"
   ],
   "metadata": {}
  },
  {
   "cell_type": "code",
   "execution_count": 19,
   "source": [
    "fig = px.choropleth(\r\n",
    "    final_tsnt,\r\n",
    "    locations =\"Code\",\r\n",
    "    animation_frame = \"year\",\r\n",
    "    geojson = vietnam_geo,\r\n",
    "    color = \"ProdScale\",\r\n",
    "    hover_name = \"Name\",\r\n",
    "    hover_data = [\"Production\"],\r\n",
    "    title =\"The Aquaculture Production of Vietnam from 2013 to 2018 by Provinces\",\r\n",
    ")\r\n",
    "fig.update_geos(fitbounds =\"locations\", visible=False)\r\n",
    "fig.show('browser')"
   ],
   "outputs": [],
   "metadata": {}
  },
  {
   "cell_type": "markdown",
   "source": [
    "## 2. Proportion of poor households by region in Vietnam from 1998 to 2016  <a id=\"2\"></a>\r\n",
    "The dataset includes le pourcentage of poor households by region in Vietnam from 1998 to 2016. The standard of poor households for this period based on the average income per person per month of households is updated according to the consumer price index as follows: In 2010, VND 400,000 for rural areas and VND 500,000 for urban areas; Similarly, in 2013 it was VND 570,000 and VND 710,000; in 2014, VND 605,000 dong and VND 750,000; in 2015, there were VND 615,000 and VND 760,000 dong; In 2016, VND 630,000 and VND 780,000 respectively."
   ],
   "metadata": {}
  },
  {
   "cell_type": "code",
   "execution_count": 2,
   "source": [
    "# import the Vietnam map by region data\r\n",
    "vietnamregion_geo = json.load(open(\"geodata/poverty_rate_1998_2016.geojson\", \"r\", encoding=\"utf8\"))\r\n",
    "\r\n",
    "# Convert map properties\r\n",
    "region_id_map = {}\r\n",
    "for feature in vietnamregion_geo[\"features\"]:\r\n",
    "    feature[\"row\"] = feature[\"properties\"][\"row\"]\r\n",
    "    region_id_map[feature[\"properties\"][\"Name_EN\"]] = feature[\"row\"]\r\n",
    "\r\n",
    "\r\n",
    "# Import aquaculture_production csv\r\n",
    "poverty_rate_1998_2016 = pd.read_csv(\"geodata/poverty_rate_1998_2016.csv\",delimiter=\"\\t\")\r\n",
    "cols = sorted(poverty_rate_1998_2016.columns[3:], reverse=False)\r\n",
    "\r\n",
    "for i, y in enumerate(cols):\r\n",
    "    scale = 'Poverty_percentage'+ y\r\n",
    "    poverty = \"Poverty\" + y\r\n",
    "    poverty_rate_1998_2016[scale] = poverty_rate_1998_2016[y]/100\r\n",
    "    poverty_rate_1998_2016[poverty] = poverty_rate_1998_2016[y]\r\n",
    "\r\n",
    "# Convert wide to long format\r\n",
    "poverty = poverty_rate_1998_2016.drop(cols, axis=1)\r\n",
    "final_poverty = pd.wide_to_long(poverty,['Poverty_percentage',\"Poverty\"], i=['Name_EN','Name_VI'], j= \"year\")\r\n",
    "final_poverty.reset_index(inplace=True)"
   ],
   "outputs": [],
   "metadata": {}
  },
  {
   "cell_type": "markdown",
   "source": [
    "### 1.2 Choropleth map using GeoJSON <a id=\"21\"></a>"
   ],
   "metadata": {}
  },
  {
   "cell_type": "code",
   "execution_count": 3,
   "source": [
    "input_year ='2012'\r\n",
    "fig = px.choropleth(\r\n",
    "    poverty_rate_1998_2016,\r\n",
    "    locations = \"row\",\r\n",
    "    geojson = vietnamregion_geo,\r\n",
    "    color = \"Poverty_percentage\"+ input_year ,\r\n",
    "    hover_name = \"Name_EN\",\r\n",
    "    hover_data = ['Poverty'+ input_year],\r\n",
    "    title =\"Proportion of poor households by region in Vietnam \"+ input_year,\r\n",
    ")\r\n",
    "fig.update_geos(fitbounds =\"locations\", visible=False)\r\n",
    "fig.show('browser')"
   ],
   "outputs": [],
   "metadata": {}
  },
  {
   "cell_type": "markdown",
   "source": [
    "### 2.3 Animated figures with GeoJSON, Plotly Express <a id=\"22\"></a>"
   ],
   "metadata": {}
  },
  {
   "cell_type": "code",
   "execution_count": 7,
   "source": [
    "fig = px.choropleth(\r\n",
    "    final_poverty,\r\n",
    "    locations =\"row\",\r\n",
    "    animation_frame = \"year\",\r\n",
    "    geojson = vietnamregion_geo,\r\n",
    "    color = \"Poverty_percentage\",\r\n",
    "    hover_name = \"Name_EN\",\r\n",
    "    hover_data = ['Poverty'],\r\n",
    "    title = \"Proportion of poor households by region in Vietnam from 1998 to 2016\",\r\n",
    ")\r\n",
    "fig.update_geos(fitbounds =\"locations\", visible=False)\r\n",
    "fig.show('browser')"
   ],
   "outputs": [],
   "metadata": {}
  },
  {
   "cell_type": "markdown",
   "source": [
    "## Important Notes <a id=\"333\"></a>\r\n",
    "Defining redraw: Setting redraw: false is an optimization for scatter plots so that animate just makes changes without redrawing the whole plot. For other plot types, such as contour plots, every frame must be a total plot redraw, i.e. redraw: true.\r\n",
    "\r\n",
    "## Reference <a id=\"666\"></a>\r\n",
    "For additional information and attributes for creating bubble charts in Plotly see: https://plotly.com/python/bubble-charts/. \r\n",
    "For more documentation on creating animations with Plotly, see https://plotly.com/python/#animations.\r\n",
    "https://plotly.com/python/animations/"
   ],
   "metadata": {}
  },
  {
   "cell_type": "code",
   "execution_count": null,
   "source": [],
   "outputs": [],
   "metadata": {}
  }
 ],
 "metadata": {
  "kernelspec": {
   "name": "python3",
   "display_name": "Python 3.8.10 64-bit ('mapplot': conda)"
  },
  "language_info": {
   "codemirror_mode": {
    "name": "ipython",
    "version": 3
   },
   "file_extension": ".py",
   "mimetype": "text/x-python",
   "name": "python",
   "nbconvert_exporter": "python",
   "pygments_lexer": "ipython3",
   "version": "3.8.10"
  },
  "interpreter": {
   "hash": "626adb18ef395280b94c241822965e1af678bd821882f03ce31a23086830751b"
  }
 },
 "nbformat": 4,
 "nbformat_minor": 5
}