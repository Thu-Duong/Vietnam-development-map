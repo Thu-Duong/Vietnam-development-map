{
 "cells": [
  {
   "cell_type": "markdown",
   "source": [
    "# Plotting Mekong Development Map\n",
    "\n",
    "\n",
    "## Table of contents\n",
    "1. [Mekong Infrastructure Tracker](#1)<br>\n",
    "    1.1 [Data](#11)<br>\n",
    "    1.2 [Plotting interative energy map](#12)<br>\n",
    "\n",
    "\n",
    "5. [References](#5)<br>"
   ],
   "metadata": {}
  },
  {
   "cell_type": "code",
   "execution_count": 1,
   "source": [
    "import json\r\n",
    "import pandas as pd\r\n",
    "import numpy as np\r\n",
    "import seaborn as sns\r\n",
    "import matplotlib.pyplot as plt\r\n",
    "import plotly.express as px\r\n",
    "%matplotlib inline\r\n",
    "pd.options.mode.chained_assignment = None\r\n",
    "\r\n",
    "\r\n",
    "# Make Plotly work in your Jupyter Notebook\r\n",
    "# import cufflinks as cf\r\n",
    "# import chart_studio.plotly as py\r\n",
    "# from plotly.offline import download_plotlyjs, init_notebook_mode, plot, iplot\r\n",
    "# init_notebook_mode(connected=True)\r\n",
    "# # Use Plotly locally\r\n",
    "# cf.go_offline()"
   ],
   "outputs": [],
   "metadata": {}
  },
  {
   "cell_type": "markdown",
   "source": [
    "## 1 Mekong Infrastructure Tracker <a id=\"1\"></a>\n",
    "abcd\n",
    "\n",
    "### 1.1 Data <a id=\"11\"></a>"
   ],
   "metadata": {}
  },
  {
   "cell_type": "code",
   "execution_count": 2,
   "source": [
    "# Import geodata\r\n",
    "mekong_geo = json.load(open(\"mekong/mekong_infrastructure_tracker.geojson\", \"r\", encoding='utf8'))\r\n",
    "mekong_df = pd.read_csv('mekong/mekong_infrastructure.csv')\r\n",
    "\r\n",
    "#Edit data\r\n",
    "mek_df = mekong_df[['Project Name','Subtype','Year of Completion','Capacity (MW)','Latitude','Longitude']]\r\n",
    "mek_df['text'] = mek_df['Project Name'] + '<br> Capacity ' + (mek_df['Capacity (MW)']).astype(str)+'W'\r\n",
    "mek_df['Capacity'] = mek_df['Capacity (MW)'].fillna(0)"
   ],
   "outputs": [],
   "metadata": {}
  },
  {
   "cell_type": "markdown",
   "source": [
    "### 1.2 Plotting interative energy map <a id=\"12\"></a>\n",
    "\n",
    "Bubble Map with go.Scattergeo\n",
    "\n",
    "See https://plotly.com/python/reference/scatter/#scatter-marker-sizeref for more information. Additionally, we recommend setting the sizemode attribute: https://plotly.com/python/reference/scatter/#scatter-marker-sizemode to area."
   ],
   "metadata": {}
  },
  {
   "cell_type": "code",
   "execution_count": 3,
   "source": [
    "import plotly.graph_objects as go\r\n",
    "\r\n",
    "categories = ['Oil', 'Hydro', 'Waste', 'Coal', 'Biomass', 'Solar', 'Wind', 'Gas', 'Geothermal', 'Mixed Fossil Fuel'] # Order\r\n",
    "colors = [\"royalblue\",\"crimson\",\"lightseagreen\",\"orange\",\"lightgrey\",'purple','yellow','brown','darkgreen','black']\r\n",
    "# cities]\r\n",
    "scale = 50\r\n",
    "\r\n",
    "fig = go.Figure()\r\n",
    "\r\n",
    "for i, cat in enumerate(categories):\r\n",
    "    mek_sub = mek_df[mek_df['Subtype']==cat]\r\n",
    "    fig.add_trace(go.Scattergeo(\r\n",
    "        locationmode = 'geojson-id',\r\n",
    "        lon = mek_sub['Longitude'],\r\n",
    "        lat = mek_sub['Latitude'],\r\n",
    "        text = mek_sub['text'],\r\n",
    "        marker = dict(\r\n",
    "         size = mek_sub['Capacity']/scale,\r\n",
    "            color = colors[i],\r\n",
    "            line_color='rgb(40,40,40)',\r\n",
    "            line_width= 0.3,\r\n",
    "            sizemode = 'area'\r\n",
    "        ),\r\n",
    "        name = '{}'.format(cat)\r\n",
    "    )\r\n",
    "    )\r\n",
    "fig.update_layout(\r\n",
    "        title_text = '2020 Mekong Infrastructure Tracker <br>(Click legend to toggle traces)',\r\n",
    "        showlegend = True,\r\n",
    "        autosize = False,\r\n",
    "        width = 1000,  #size of figure\r\n",
    "        height = 850,\r\n",
    "        geo = go.layout.Geo(\r\n",
    "        resolution = 50,\r\n",
    "        scope = 'asia',\r\n",
    "        showframe = False,\r\n",
    "        showcoastlines = True,\r\n",
    "        lonaxis_range = [ 90.0, 112.0 ], # cut of asia map\r\n",
    "        lataxis_range = [ 5.0, 35.0 ],\r\n",
    "        landcolor = \"rgb(229, 229, 229)\",\r\n",
    "        countrycolor = \"white\" ,\r\n",
    "        coastlinecolor = \"white\",\r\n",
    "        projection_type = 'mercator',\r\n",
    "        domain = dict(x = [ 0, 1.0 ], y = [ 0, 1.0 ])\r\n",
    "    )\r\n",
    ")\r\n",
    "fig.show('browser')"
   ],
   "outputs": [],
   "metadata": {}
  },
  {
   "cell_type": "markdown",
   "source": [
    "<img src=\"figures/mekong_infra.png\" alt=\"drawing\" style=\"width:700px;\"/>\n"
   ],
   "metadata": {}
  },
  {
   "cell_type": "code",
   "execution_count": null,
   "source": [],
   "outputs": [],
   "metadata": {}
  }
 ],
 "metadata": {
  "interpreter": {
   "hash": "626adb18ef395280b94c241822965e1af678bd821882f03ce31a23086830751b"
  },
  "kernelspec": {
   "name": "python3",
   "display_name": "Python 3.8.10 64-bit ('mapplot': conda)"
  },
  "language_info": {
   "codemirror_mode": {
    "name": "ipython",
    "version": 3
   },
   "file_extension": ".py",
   "mimetype": "text/x-python",
   "name": "python",
   "nbconvert_exporter": "python",
   "pygments_lexer": "ipython3",
   "version": "3.8.10"
  }
 },
 "nbformat": 4,
 "nbformat_minor": 4
}